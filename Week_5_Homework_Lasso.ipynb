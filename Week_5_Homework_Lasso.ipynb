{
 "cells": [
  {
   "cell_type": "markdown",
   "id": "1a8c3143-2bb9-40ab-b6f3-7268e69836dc",
   "metadata": {},
   "source": [
    "Build a credit check function\n",
    "Recall that we built a conditional expression to evaluate credit rating based on these values:\n",
    "\n",
    "300-579: Poor\n",
    "580-669: Fair\n",
    "670-739: Good\n",
    "740-799: Very good\n",
    "800-850: Excellent\n",
    "\n",
    "Now build a function that evaluates a score to return a rating, but also prints \"Your credit rating is whatever!\""
   ]
  },
  {
   "cell_type": "code",
   "execution_count": 1,
   "id": "626be29d-375f-4435-b396-a487fbc6343e",
   "metadata": {},
   "outputs": [],
   "source": [
    "# First things first let's define our function\n",
    "def credit_check(credit):\n",
    "\n",
    "# Check to make sure it's a valid input \n",
    "    if not isinstance(credit, (int, float)):\n",
    "        print(\"Invalid input: Credit score must be a number.\")\n",
    "        return None\n",
    "\n",
    "# Check to make sure it's a valid input range\n",
    "    if credit < 300 or credit > 850:\n",
    "        print(\"Invalid score: Credit score must be between 300 and 850.\")\n",
    "        return None\n",
    "\n",
    "# To make it DRY, let's define thresholds and corresponding ratings\n",
    "    ratings = [\n",
    "        (579, \"Poor\"),\n",
    "        (669, \"Fair\"),\n",
    "        (739, \"Good\"),\n",
    "        (799, \"Very Good\"),\n",
    "        (850, \"Excellent\")\n",
    "    ]\n",
    "    \n",
    "# Determine rating\n",
    "    for threshold, rating in ratings:\n",
    "        if credit <= threshold:\n",
    "            break\n",
    "\n",
    "    print(f\"Your credit of {credit} is {rating.lower()}\")\n",
    "    return rating"
   ]
  },
  {
   "cell_type": "code",
   "execution_count": 3,
   "id": "71ff1d6a-a2a1-4b5c-9d3f-4adfe3ec3232",
   "metadata": {},
   "outputs": [
    {
     "name": "stdout",
     "output_type": "stream",
     "text": [
      "Your credit of 590 is fair\n"
     ]
    },
    {
     "data": {
      "text/plain": [
       "'Fair'"
      ]
     },
     "execution_count": 3,
     "metadata": {},
     "output_type": "execute_result"
    }
   ],
   "source": [
    "# Now let's check \n",
    "credit_check(590)"
   ]
  },
  {
   "cell_type": "code",
   "execution_count": 5,
   "id": "a7b1a2bb-c340-4f4e-95f7-e1553cd68b10",
   "metadata": {},
   "outputs": [
    {
     "name": "stdout",
     "output_type": "stream",
     "text": [
      "Invalid score: Credit score must be between 300 and 850.\n"
     ]
    }
   ],
   "source": [
    "# Now let's see what happens when entering a number outside the bounds\n",
    "credit_check(290)"
   ]
  }
 ],
 "metadata": {
  "kernelspec": {
   "display_name": "Python [conda env:base] *",
   "language": "python",
   "name": "conda-base-py"
  },
  "language_info": {
   "codemirror_mode": {
    "name": "ipython",
    "version": 3
   },
   "file_extension": ".py",
   "mimetype": "text/x-python",
   "name": "python",
   "nbconvert_exporter": "python",
   "pygments_lexer": "ipython3",
   "version": "3.12.7"
  }
 },
 "nbformat": 4,
 "nbformat_minor": 5
}
